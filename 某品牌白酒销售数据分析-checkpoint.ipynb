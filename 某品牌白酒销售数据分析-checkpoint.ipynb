{
 "cells": [
  {
   "cell_type": "markdown",
   "metadata": {},
   "source": [
    "# 导包和数据"
   ]
  },
  {
   "cell_type": "code",
   "execution_count": 35,
   "metadata": {},
   "outputs": [],
   "source": [
    "import pandas as pd\n",
    "import numpy as np\n",
    "import matplotlib.pyplot as plt\n",
    "from pyecharts.charts import Bar,Line,Map,Page,Pie  \n",
    "from pyecharts import options as opts \n",
    "from pyecharts.globals import SymbolType  \n",
    "import warnings\n",
    "import seaborn as sns\n",
    "warnings.filterwarnings(\"ignore\")\n",
    "%matplotlib inline\n",
    "sns.set_style('white',{'font.sans-serif':['simhei','Arial']})\n",
    "pd.set_option(\"display.max_column\", None)\n",
    "pd.set_option(\"display.max_row\",None)"
   ]
  },
  {
   "cell_type": "code",
   "execution_count": 36,
   "metadata": {},
   "outputs": [],
   "source": [
    "data_user_source = pd.read_excel(\"D:\\\\office\\\\data\\\\data\\\\user_source.xlsx\")"
   ]
  },
  {
   "cell_type": "markdown",
   "metadata": {},
   "source": [
    "#### 线索_id 点击广告录入信息的用户"
   ]
  },
  {
   "cell_type": "code",
   "execution_count": 37,
   "metadata": {},
   "outputs": [
    {
     "data": {
      "text/html": [
       "<div>\n",
       "<style scoped>\n",
       "    .dataframe tbody tr th:only-of-type {\n",
       "        vertical-align: middle;\n",
       "    }\n",
       "\n",
       "    .dataframe tbody tr th {\n",
       "        vertical-align: top;\n",
       "    }\n",
       "\n",
       "    .dataframe thead th {\n",
       "        text-align: right;\n",
       "    }\n",
       "</style>\n",
       "<table border=\"1\" class=\"dataframe\">\n",
       "  <thead>\n",
       "    <tr style=\"text-align: right;\">\n",
       "      <th></th>\n",
       "      <th>广告投放渠道</th>\n",
       "      <th>线索_id</th>\n",
       "      <th>跟进次数</th>\n",
       "      <th>获取时间</th>\n",
       "      <th>状态</th>\n",
       "    </tr>\n",
       "  </thead>\n",
       "  <tbody>\n",
       "    <tr>\n",
       "      <th>0</th>\n",
       "      <td>2020_1001</td>\n",
       "      <td>2020_8320180</td>\n",
       "      <td>2</td>\n",
       "      <td>2020-05-01</td>\n",
       "      <td>微信添加成功</td>\n",
       "    </tr>\n",
       "    <tr>\n",
       "      <th>1</th>\n",
       "      <td>2020_1001</td>\n",
       "      <td>2020_7833328</td>\n",
       "      <td>2</td>\n",
       "      <td>2020-05-01</td>\n",
       "      <td>微信添加成功</td>\n",
       "    </tr>\n",
       "    <tr>\n",
       "      <th>2</th>\n",
       "      <td>2020_1001</td>\n",
       "      <td>2020_9392768</td>\n",
       "      <td>1</td>\n",
       "      <td>2020-05-01</td>\n",
       "      <td>微信添加成功</td>\n",
       "    </tr>\n",
       "    <tr>\n",
       "      <th>3</th>\n",
       "      <td>2020_1001</td>\n",
       "      <td>2020_3731912</td>\n",
       "      <td>1</td>\n",
       "      <td>2020-05-01</td>\n",
       "      <td>微信添加成功</td>\n",
       "    </tr>\n",
       "    <tr>\n",
       "      <th>4</th>\n",
       "      <td>2020_1001</td>\n",
       "      <td>2020_8304303</td>\n",
       "      <td>2</td>\n",
       "      <td>2020-05-01</td>\n",
       "      <td>微信添加成功</td>\n",
       "    </tr>\n",
       "  </tbody>\n",
       "</table>\n",
       "</div>"
      ],
      "text/plain": [
       "      广告投放渠道         线索_id  跟进次数       获取时间      状态\n",
       "0  2020_1001  2020_8320180     2 2020-05-01  微信添加成功\n",
       "1  2020_1001  2020_7833328     2 2020-05-01  微信添加成功\n",
       "2  2020_1001  2020_9392768     1 2020-05-01  微信添加成功\n",
       "3  2020_1001  2020_3731912     1 2020-05-01  微信添加成功\n",
       "4  2020_1001  2020_8304303     2 2020-05-01  微信添加成功"
      ]
     },
     "execution_count": 37,
     "metadata": {},
     "output_type": "execute_result"
    }
   ],
   "source": [
    "data_user_source.head()"
   ]
  },
  {
   "cell_type": "code",
   "execution_count": 38,
   "metadata": {},
   "outputs": [
    {
     "name": "stdout",
     "output_type": "stream",
     "text": [
      "<class 'pandas.core.frame.DataFrame'>\n",
      "RangeIndex: 13977 entries, 0 to 13976\n",
      "Data columns (total 5 columns):\n",
      " #   Column  Non-Null Count  Dtype         \n",
      "---  ------  --------------  -----         \n",
      " 0   广告投放渠道  13977 non-null  object        \n",
      " 1   线索_id   13977 non-null  object        \n",
      " 2   跟进次数    13977 non-null  int64         \n",
      " 3   获取时间    13977 non-null  datetime64[ns]\n",
      " 4   状态      13977 non-null  object        \n",
      "dtypes: datetime64[ns](1), int64(1), object(3)\n",
      "memory usage: 546.1+ KB\n"
     ]
    }
   ],
   "source": [
    "data_user_source.info()"
   ]
  },
  {
   "cell_type": "markdown",
   "metadata": {},
   "source": [
    "# 分析目标\n",
    "   * 两个广告渠道数据对比，哪个更优\n",
    "   * 两个月销售数据的环比\n",
    "   * 获得活动赠送一瓶白酒的客户后续表现如何\n",
    "   * 成功添加客户微信的开发率和复购率如何\n",
    "   * 客户下单的价格区间分布和各区间销售额占比\n",
    "   * 获取客户手机号后的通话情况"
   ]
  },
  {
   "cell_type": "code",
   "execution_count": 39,
   "metadata": {},
   "outputs": [],
   "source": [
    "#删除重复点击广告并录入信息的客户\n",
    "data_user_source.drop_duplicates(['线索_id'],inplace = True)\n",
    "#单独提取出月\n",
    "data_user_source['月份'] = data_user_source['获取时间'].dt.month"
   ]
  },
  {
   "cell_type": "code",
   "execution_count": 40,
   "metadata": {},
   "outputs": [
    {
     "data": {
      "text/plain": [
       "array(['微信添加成功', '不同意添加', '未接来电', '接听挂断', '拒接电话', '同意添加微信', '无效电话'],\n",
       "      dtype=object)"
      ]
     },
     "execution_count": 40,
     "metadata": {},
     "output_type": "execute_result"
    }
   ],
   "source": [
    "#查看状态信息\n",
    "data_user_source['状态'].unique()"
   ]
  },
  {
   "cell_type": "markdown",
   "metadata": {},
   "source": [
    "# 各类状态占比以及销售跟进情况"
   ]
  },
  {
   "cell_type": "code",
   "execution_count": 41,
   "metadata": {},
   "outputs": [
    {
     "data": {
      "text/plain": [
       "添加成功     9951\n",
       "不同意添加    1919\n",
       "未通话      1573\n",
       "接听挂断      372\n",
       "无效电话      118\n",
       "Name: 状态, dtype: int64"
      ]
     },
     "execution_count": 41,
     "metadata": {},
     "output_type": "execute_result"
    }
   ],
   "source": [
    "#相同信息合并\n",
    "data_user_source.loc[data_user_source['状态']=='微信添加成功','状态'] = '添加成功'\n",
    "data_user_source.loc[data_user_source['状态']=='同意添加微信','状态'] = '添加成功'\n",
    "data_user_source.loc[data_user_source['状态']=='未接来电','状态'] = '未通话'\n",
    "data_user_source.loc[data_user_source['状态']=='拒接电话','状态'] = '未通话'\n",
    "data_msg = data_user_source['状态'].value_counts()\n",
    "data_msg"
   ]
  },
  {
   "cell_type": "code",
   "execution_count": 42,
   "metadata": {},
   "outputs": [
    {
     "data": {
      "text/html": [
       "\n",
       "<script>\n",
       "    require.config({\n",
       "        paths: {\n",
       "            'echarts':'https://assets.pyecharts.org/assets/echarts.min'\n",
       "        }\n",
       "    });\n",
       "</script>\n",
       "\n",
       "        <div id=\"580959356be94780837518dcab650852\" style=\"width:900px; height:500px;\"></div>\n",
       "\n",
       "<script>\n",
       "        require(['echarts'], function(echarts) {\n",
       "                var chart_580959356be94780837518dcab650852 = echarts.init(\n",
       "                    document.getElementById('580959356be94780837518dcab650852'), 'white', {renderer: 'canvas'});\n",
       "                var option_580959356be94780837518dcab650852 = {\n",
       "    \"animation\": true,\n",
       "    \"animationThreshold\": 2000,\n",
       "    \"animationDuration\": 1000,\n",
       "    \"animationEasing\": \"cubicOut\",\n",
       "    \"animationDelay\": 0,\n",
       "    \"animationDurationUpdate\": 300,\n",
       "    \"animationEasingUpdate\": \"cubicOut\",\n",
       "    \"animationDelayUpdate\": 0,\n",
       "    \"color\": [\n",
       "        \"#EF9050\",\n",
       "        \"#3B7BA9\",\n",
       "        \"#6FB27C\",\n",
       "        \"#FFAF34\",\n",
       "        \"#D8BFD8\",\n",
       "        \"#00BFFF\",\n",
       "        \"#7FFFAA\"\n",
       "    ],\n",
       "    \"series\": [\n",
       "        {\n",
       "            \"type\": \"pie\",\n",
       "            \"clockwise\": true,\n",
       "            \"data\": [\n",
       "                {\n",
       "                    \"name\": \"\\u6dfb\\u52a0\\u6210\\u529f\",\n",
       "                    \"value\": 9951\n",
       "                },\n",
       "                {\n",
       "                    \"name\": \"\\u4e0d\\u540c\\u610f\\u6dfb\\u52a0\",\n",
       "                    \"value\": 1919\n",
       "                },\n",
       "                {\n",
       "                    \"name\": \"\\u672a\\u901a\\u8bdd\",\n",
       "                    \"value\": 1573\n",
       "                },\n",
       "                {\n",
       "                    \"name\": \"\\u63a5\\u542c\\u6302\\u65ad\",\n",
       "                    \"value\": 372\n",
       "                },\n",
       "                {\n",
       "                    \"name\": \"\\u65e0\\u6548\\u7535\\u8bdd\",\n",
       "                    \"value\": 118\n",
       "                }\n",
       "            ],\n",
       "            \"radius\": [\n",
       "                \"35%\",\n",
       "                \"60%\"\n",
       "            ],\n",
       "            \"center\": [\n",
       "                \"50%\",\n",
       "                \"50%\"\n",
       "            ],\n",
       "            \"label\": {\n",
       "                \"show\": true,\n",
       "                \"position\": \"top\",\n",
       "                \"margin\": 8,\n",
       "                \"formatter\": \"{b}:{d}%\"\n",
       "            },\n",
       "            \"rippleEffect\": {\n",
       "                \"show\": true,\n",
       "                \"brushType\": \"stroke\",\n",
       "                \"scale\": 2.5,\n",
       "                \"period\": 4\n",
       "            }\n",
       "        }\n",
       "    ],\n",
       "    \"legend\": [\n",
       "        {\n",
       "            \"data\": [\n",
       "                \"\\u6dfb\\u52a0\\u6210\\u529f\",\n",
       "                \"\\u4e0d\\u540c\\u610f\\u6dfb\\u52a0\",\n",
       "                \"\\u672a\\u901a\\u8bdd\",\n",
       "                \"\\u63a5\\u542c\\u6302\\u65ad\",\n",
       "                \"\\u65e0\\u6548\\u7535\\u8bdd\"\n",
       "            ],\n",
       "            \"selected\": {},\n",
       "            \"show\": true,\n",
       "            \"left\": \"2%\",\n",
       "            \"top\": \"15%\",\n",
       "            \"orient\": \"vertical\",\n",
       "            \"padding\": 5,\n",
       "            \"itemGap\": 10,\n",
       "            \"itemWidth\": 25,\n",
       "            \"itemHeight\": 14\n",
       "        }\n",
       "    ],\n",
       "    \"tooltip\": {\n",
       "        \"show\": true,\n",
       "        \"trigger\": \"item\",\n",
       "        \"triggerOn\": \"mousemove|click\",\n",
       "        \"axisPointer\": {\n",
       "            \"type\": \"line\"\n",
       "        },\n",
       "        \"textStyle\": {\n",
       "            \"fontSize\": 14\n",
       "        },\n",
       "        \"borderWidth\": 0\n",
       "    },\n",
       "    \"title\": [\n",
       "        {\n",
       "            \"text\": \"\\u70b9\\u51fb\\u5e7f\\u544a\\u7528\\u6237\\u8ddf\\u8fdb\\u72b6\\u51b5\",\n",
       "            \"padding\": 5,\n",
       "            \"itemGap\": 10\n",
       "        }\n",
       "    ]\n",
       "};\n",
       "                chart_580959356be94780837518dcab650852.setOption(option_580959356be94780837518dcab650852);\n",
       "        });\n",
       "    </script>\n"
      ],
      "text/plain": [
       "<pyecharts.render.display.HTML at 0x1b05be57208>"
      ]
     },
     "execution_count": 42,
     "metadata": {},
     "output_type": "execute_result"
    }
   ],
   "source": [
    "data_pair = [list(z) for z in zip(data_msg.index.tolist(), data_msg.values.tolist())]\n",
    "pie1 = Pie() \n",
    "pie1.add('', data_pair, radius=['35%', '60%'])\n",
    "pie1.set_global_opts(title_opts=opts.TitleOpts(title='点击广告用户跟进状况'), \n",
    "                     legend_opts=opts.LegendOpts(orient='vertical', pos_top='15%', pos_left='2%'))\n",
    "pie1.set_series_opts(label_opts=opts.LabelOpts(formatter=\"{b}:{d}%\"))\n",
    "pie1.set_colors(['#EF9050', '#3B7BA9', '#6FB27C', '#FFAF34', '#D8BFD8', '#00BFFF', '#7FFFAA'])\n",
    "pie1.render_notebook() "
   ]
  },
  {
   "cell_type": "code",
   "execution_count": 43,
   "metadata": {},
   "outputs": [
    {
     "data": {
      "text/plain": [
       "<matplotlib.axes._subplots.AxesSubplot at 0x1b05b79cac8>"
      ]
     },
     "execution_count": 43,
     "metadata": {},
     "output_type": "execute_result"
    },
    {
     "data": {
      "image/png": "[encoded data removed]",
      "text/plain": [
       "<Figure size 576x288 with 1 Axes>"
      ]
     },
     "metadata": {},
     "output_type": "display_data"
    }
   ],
   "source": [
    "#将所有未通话的广告线索人数进行筛选出来并按跟进次数求和\n",
    "data_NoAnswer = data_user_source.loc[data_user_source['状态']=='未通话',:]\n",
    "data_NoAnswer.insert(6,'辅助列',1)\n",
    "data_NoAnswer.groupby(['状态','跟进次数'])['辅助列'].sum().plot(figsize = (8,4))"
   ]
  },
  {
   "cell_type": "markdown",
   "metadata": {},
   "source": [
    "  * 对于没有接通电话的人数，前面四次拨打绝大部分都能接通，对于未接通的电话很多只跟进了一两次，需要改进"
   ]
  },
  {
   "cell_type": "code",
   "execution_count": 44,
   "metadata": {},
   "outputs": [
    {
     "data": {
      "text/plain": [
       "9951"
      ]
     },
     "execution_count": 44,
     "metadata": {},
     "output_type": "execute_result"
    },
    {
     "data": {
      "image/png": "[encoded data removed]",
      "text/plain": [
       "<Figure size 720x288 with 1 Axes>"
      ]
     },
     "metadata": {},
     "output_type": "display_data"
    }
   ],
   "source": [
    "#将所有已添加微信的人数进行筛选出来并按跟进次数求和\n",
    "data_add_wx = data_user_source.loc[data_user_source['状态']=='添加成功',:]\n",
    "data_add_wx.insert(6,'辅助列',1)\n",
    "data_add_wx.groupby(['状态','跟进次数'])['辅助列'].sum().plot(figsize = (10,4))\n",
    "len(data_add_wx)"
   ]
  },
  {
   "cell_type": "markdown",
   "metadata": {},
   "source": [
    "     * 大部分只需跟进3次以内就能获得客户微信"
   ]
  },
  {
   "cell_type": "markdown",
   "metadata": {},
   "source": [
    " # 打开订单表和客户来源表进行合并进行分析"
   ]
  },
  {
   "cell_type": "code",
   "execution_count": 45,
   "metadata": {},
   "outputs": [],
   "source": [
    "data_order = pd.read_excel(\"D:\\\\office\\\\data\\\\data\\\\user_order.xlsx\")"
   ]
  },
  {
   "cell_type": "code",
   "execution_count": 46,
   "metadata": {},
   "outputs": [
    {
     "data": {
      "text/html": [
       "<div>\n",
       "<style scoped>\n",
       "    .dataframe tbody tr th:only-of-type {\n",
       "        vertical-align: middle;\n",
       "    }\n",
       "\n",
       "    .dataframe tbody tr th {\n",
       "        vertical-align: top;\n",
       "    }\n",
       "\n",
       "    .dataframe thead th {\n",
       "        text-align: right;\n",
       "    }\n",
       "</style>\n",
       "<table border=\"1\" class=\"dataframe\">\n",
       "  <thead>\n",
       "    <tr style=\"text-align: right;\">\n",
       "      <th></th>\n",
       "      <th>客户_id</th>\n",
       "      <th>订单金额</th>\n",
       "      <th>下单日期</th>\n",
       "    </tr>\n",
       "  </thead>\n",
       "  <tbody>\n",
       "    <tr>\n",
       "      <th>0</th>\n",
       "      <td>2020_5482788</td>\n",
       "      <td>4798.0</td>\n",
       "      <td>2020-06-30</td>\n",
       "    </tr>\n",
       "    <tr>\n",
       "      <th>1</th>\n",
       "      <td>2020_9064231</td>\n",
       "      <td>760.0</td>\n",
       "      <td>2020-06-30</td>\n",
       "    </tr>\n",
       "    <tr>\n",
       "      <th>2</th>\n",
       "      <td>2020_0408111</td>\n",
       "      <td>4284.0</td>\n",
       "      <td>2020-06-30</td>\n",
       "    </tr>\n",
       "    <tr>\n",
       "      <th>3</th>\n",
       "      <td>2020_8565227</td>\n",
       "      <td>1188.0</td>\n",
       "      <td>2020-06-30</td>\n",
       "    </tr>\n",
       "    <tr>\n",
       "      <th>4</th>\n",
       "      <td>2020_5043718</td>\n",
       "      <td>476.0</td>\n",
       "      <td>2020-06-30</td>\n",
       "    </tr>\n",
       "  </tbody>\n",
       "</table>\n",
       "</div>"
      ],
      "text/plain": [
       "          客户_id    订单金额       下单日期\n",
       "0  2020_5482788  4798.0 2020-06-30\n",
       "1  2020_9064231   760.0 2020-06-30\n",
       "2  2020_0408111  4284.0 2020-06-30\n",
       "3  2020_8565227  1188.0 2020-06-30\n",
       "4  2020_5043718   476.0 2020-06-30"
      ]
     },
     "execution_count": 46,
     "metadata": {},
     "output_type": "execute_result"
    }
   ],
   "source": [
    "data_order.head()"
   ]
  },
  {
   "cell_type": "code",
   "execution_count": 47,
   "metadata": {},
   "outputs": [
    {
     "name": "stdout",
     "output_type": "stream",
     "text": [
      "<class 'pandas.core.frame.DataFrame'>\n",
      "RangeIndex: 550 entries, 0 to 549\n",
      "Data columns (total 3 columns):\n",
      " #   Column  Non-Null Count  Dtype         \n",
      "---  ------  --------------  -----         \n",
      " 0   客户_id   550 non-null    object        \n",
      " 1   订单金额    550 non-null    float64       \n",
      " 2   下单日期    550 non-null    datetime64[ns]\n",
      "dtypes: datetime64[ns](1), float64(1), object(1)\n",
      "memory usage: 13.0+ KB\n"
     ]
    }
   ],
   "source": [
    "data_order.info()"
   ]
  },
  {
   "cell_type": "code",
   "execution_count": 48,
   "metadata": {},
   "outputs": [],
   "source": [
    "#删除订单金额为0的活动订单，将其先保存\n",
    "data_active_order = data_order.loc[data_order['订单金额']==0.0,:].copy()\n",
    "data_order= data_order.drop(index=(data_order.loc[(data_order['订单金额']==0.0)].index))\n"
   ]
  },
  {
   "cell_type": "code",
   "execution_count": 49,
   "metadata": {},
   "outputs": [
    {
     "data": {
      "text/html": [
       "<div>\n",
       "<style scoped>\n",
       "    .dataframe tbody tr th:only-of-type {\n",
       "        vertical-align: middle;\n",
       "    }\n",
       "\n",
       "    .dataframe tbody tr th {\n",
       "        vertical-align: top;\n",
       "    }\n",
       "\n",
       "    .dataframe thead th {\n",
       "        text-align: right;\n",
       "    }\n",
       "</style>\n",
       "<table border=\"1\" class=\"dataframe\">\n",
       "  <thead>\n",
       "    <tr style=\"text-align: right;\">\n",
       "      <th></th>\n",
       "      <th>客户_id</th>\n",
       "      <th>订单金额</th>\n",
       "      <th>下单日期</th>\n",
       "      <th>广告投放渠道</th>\n",
       "      <th>线索_id</th>\n",
       "      <th>跟进次数</th>\n",
       "      <th>获取时间</th>\n",
       "      <th>状态</th>\n",
       "      <th>月份</th>\n",
       "      <th>辅助列</th>\n",
       "    </tr>\n",
       "  </thead>\n",
       "  <tbody>\n",
       "    <tr>\n",
       "      <th>0</th>\n",
       "      <td>2020_5482788</td>\n",
       "      <td>4798.0</td>\n",
       "      <td>2020-06-30</td>\n",
       "      <td>2020_1001</td>\n",
       "      <td>2020_5482788</td>\n",
       "      <td>2</td>\n",
       "      <td>2020-06-04</td>\n",
       "      <td>添加成功</td>\n",
       "      <td>6</td>\n",
       "      <td>1</td>\n",
       "    </tr>\n",
       "    <tr>\n",
       "      <th>1</th>\n",
       "      <td>2020_5482788</td>\n",
       "      <td>10800.0</td>\n",
       "      <td>2020-06-24</td>\n",
       "      <td>2020_1001</td>\n",
       "      <td>2020_5482788</td>\n",
       "      <td>2</td>\n",
       "      <td>2020-06-04</td>\n",
       "      <td>添加成功</td>\n",
       "      <td>6</td>\n",
       "      <td>1</td>\n",
       "    </tr>\n",
       "    <tr>\n",
       "      <th>2</th>\n",
       "      <td>2020_5482788</td>\n",
       "      <td>3834.0</td>\n",
       "      <td>2020-06-04</td>\n",
       "      <td>2020_1001</td>\n",
       "      <td>2020_5482788</td>\n",
       "      <td>2</td>\n",
       "      <td>2020-06-04</td>\n",
       "      <td>添加成功</td>\n",
       "      <td>6</td>\n",
       "      <td>1</td>\n",
       "    </tr>\n",
       "    <tr>\n",
       "      <th>3</th>\n",
       "      <td>2020_9064231</td>\n",
       "      <td>760.0</td>\n",
       "      <td>2020-06-30</td>\n",
       "      <td>2020_1001</td>\n",
       "      <td>2020_9064231</td>\n",
       "      <td>1</td>\n",
       "      <td>2020-05-30</td>\n",
       "      <td>添加成功</td>\n",
       "      <td>5</td>\n",
       "      <td>1</td>\n",
       "    </tr>\n",
       "    <tr>\n",
       "      <th>4</th>\n",
       "      <td>2020_0408111</td>\n",
       "      <td>4284.0</td>\n",
       "      <td>2020-06-30</td>\n",
       "      <td>2020_1001</td>\n",
       "      <td>2020_0408111</td>\n",
       "      <td>1</td>\n",
       "      <td>2020-06-29</td>\n",
       "      <td>添加成功</td>\n",
       "      <td>6</td>\n",
       "      <td>1</td>\n",
       "    </tr>\n",
       "  </tbody>\n",
       "</table>\n",
       "</div>"
      ],
      "text/plain": [
       "          客户_id     订单金额       下单日期     广告投放渠道         线索_id  跟进次数       获取时间  \\\n",
       "0  2020_5482788   4798.0 2020-06-30  2020_1001  2020_5482788     2 2020-06-04   \n",
       "1  2020_5482788  10800.0 2020-06-24  2020_1001  2020_5482788     2 2020-06-04   \n",
       "2  2020_5482788   3834.0 2020-06-04  2020_1001  2020_5482788     2 2020-06-04   \n",
       "3  2020_9064231    760.0 2020-06-30  2020_1001  2020_9064231     1 2020-05-30   \n",
       "4  2020_0408111   4284.0 2020-06-30  2020_1001  2020_0408111     1 2020-06-29   \n",
       "\n",
       "     状态  月份  辅助列  \n",
       "0  添加成功   6    1  \n",
       "1  添加成功   6    1  \n",
       "2  添加成功   6    1  \n",
       "3  添加成功   5    1  \n",
       "4  添加成功   6    1  "
      ]
     },
     "execution_count": 49,
     "metadata": {},
     "output_type": "execute_result"
    }
   ],
   "source": [
    "#以添加微信的客户和订单表合并\n",
    "data_orders = pd.merge(data_order,data_add_wx,left_on ='客户_id',right_on = '线索_id')\n",
    "data_orders.head()"
   ]
  },
  {
   "cell_type": "code",
   "execution_count": 50,
   "metadata": {},
   "outputs": [
    {
     "data": {
      "text/html": [
       "<div>\n",
       "<style scoped>\n",
       "    .dataframe tbody tr th:only-of-type {\n",
       "        vertical-align: middle;\n",
       "    }\n",
       "\n",
       "    .dataframe tbody tr th {\n",
       "        vertical-align: top;\n",
       "    }\n",
       "\n",
       "    .dataframe thead th {\n",
       "        text-align: right;\n",
       "    }\n",
       "</style>\n",
       "<table border=\"1\" class=\"dataframe\">\n",
       "  <thead>\n",
       "    <tr style=\"text-align: right;\">\n",
       "      <th></th>\n",
       "      <th>客户_id</th>\n",
       "      <th>订单金额</th>\n",
       "      <th>下单日期</th>\n",
       "      <th>广告投放渠道</th>\n",
       "      <th>获取时间</th>\n",
       "      <th>辅助列</th>\n",
       "    </tr>\n",
       "  </thead>\n",
       "  <tbody>\n",
       "    <tr>\n",
       "      <th>0</th>\n",
       "      <td>2020_5482788</td>\n",
       "      <td>4798.0</td>\n",
       "      <td>2020-06-30</td>\n",
       "      <td>2020_1001</td>\n",
       "      <td>2020-06-04</td>\n",
       "      <td>1</td>\n",
       "    </tr>\n",
       "    <tr>\n",
       "      <th>1</th>\n",
       "      <td>2020_5482788</td>\n",
       "      <td>10800.0</td>\n",
       "      <td>2020-06-24</td>\n",
       "      <td>2020_1001</td>\n",
       "      <td>2020-06-04</td>\n",
       "      <td>1</td>\n",
       "    </tr>\n",
       "    <tr>\n",
       "      <th>2</th>\n",
       "      <td>2020_5482788</td>\n",
       "      <td>3834.0</td>\n",
       "      <td>2020-06-04</td>\n",
       "      <td>2020_1001</td>\n",
       "      <td>2020-06-04</td>\n",
       "      <td>1</td>\n",
       "    </tr>\n",
       "    <tr>\n",
       "      <th>3</th>\n",
       "      <td>2020_9064231</td>\n",
       "      <td>760.0</td>\n",
       "      <td>2020-06-30</td>\n",
       "      <td>2020_1001</td>\n",
       "      <td>2020-05-30</td>\n",
       "      <td>1</td>\n",
       "    </tr>\n",
       "    <tr>\n",
       "      <th>4</th>\n",
       "      <td>2020_0408111</td>\n",
       "      <td>4284.0</td>\n",
       "      <td>2020-06-30</td>\n",
       "      <td>2020_1001</td>\n",
       "      <td>2020-06-29</td>\n",
       "      <td>1</td>\n",
       "    </tr>\n",
       "  </tbody>\n",
       "</table>\n",
       "</div>"
      ],
      "text/plain": [
       "          客户_id     订单金额       下单日期     广告投放渠道       获取时间  辅助列\n",
       "0  2020_5482788   4798.0 2020-06-30  2020_1001 2020-06-04    1\n",
       "1  2020_5482788  10800.0 2020-06-24  2020_1001 2020-06-04    1\n",
       "2  2020_5482788   3834.0 2020-06-04  2020_1001 2020-06-04    1\n",
       "3  2020_9064231    760.0 2020-06-30  2020_1001 2020-05-30    1\n",
       "4  2020_0408111   4284.0 2020-06-30  2020_1001 2020-06-29    1"
      ]
     },
     "execution_count": 50,
     "metadata": {},
     "output_type": "execute_result"
    }
   ],
   "source": [
    "#剔除多余列\n",
    "data_orders = data_orders[['客户_id','订单金额','下单日期','广告投放渠道','获取时间','辅助列']]\n",
    "data_orders.head()"
   ]
  },
  {
   "cell_type": "markdown",
   "metadata": {},
   "source": [
    "###  提取所有客户第一次下单的数据"
   ]
  },
  {
   "cell_type": "code",
   "execution_count": 51,
   "metadata": {},
   "outputs": [
    {
     "data": {
      "text/html": [
       "<div>\n",
       "<style scoped>\n",
       "    .dataframe tbody tr th:only-of-type {\n",
       "        vertical-align: middle;\n",
       "    }\n",
       "\n",
       "    .dataframe tbody tr th {\n",
       "        vertical-align: top;\n",
       "    }\n",
       "\n",
       "    .dataframe thead th {\n",
       "        text-align: right;\n",
       "    }\n",
       "</style>\n",
       "<table border=\"1\" class=\"dataframe\">\n",
       "  <thead>\n",
       "    <tr style=\"text-align: right;\">\n",
       "      <th></th>\n",
       "      <th>客户_id</th>\n",
       "      <th>下单日期</th>\n",
       "      <th>订单金额</th>\n",
       "      <th>广告投放渠道</th>\n",
       "      <th>获取时间</th>\n",
       "      <th>辅助列</th>\n",
       "    </tr>\n",
       "  </thead>\n",
       "  <tbody>\n",
       "    <tr>\n",
       "      <th>0</th>\n",
       "      <td>2020_0030076</td>\n",
       "      <td>2020-06-13</td>\n",
       "      <td>7302.0</td>\n",
       "      <td>2020_1002</td>\n",
       "      <td>2020-06-13</td>\n",
       "      <td>1</td>\n",
       "    </tr>\n",
       "    <tr>\n",
       "      <th>1</th>\n",
       "      <td>2020_0031020</td>\n",
       "      <td>2020-06-10</td>\n",
       "      <td>500.0</td>\n",
       "      <td>2020_1001</td>\n",
       "      <td>2020-06-07</td>\n",
       "      <td>1</td>\n",
       "    </tr>\n",
       "    <tr>\n",
       "      <th>2</th>\n",
       "      <td>2020_0033778</td>\n",
       "      <td>2020-06-29</td>\n",
       "      <td>2520.0</td>\n",
       "      <td>2020_1001</td>\n",
       "      <td>2020-06-13</td>\n",
       "      <td>1</td>\n",
       "    </tr>\n",
       "    <tr>\n",
       "      <th>3</th>\n",
       "      <td>2020_0043298</td>\n",
       "      <td>2020-06-07</td>\n",
       "      <td>13080.0</td>\n",
       "      <td>2020_1001</td>\n",
       "      <td>2020-05-31</td>\n",
       "      <td>1</td>\n",
       "    </tr>\n",
       "    <tr>\n",
       "      <th>4</th>\n",
       "      <td>2020_0061360</td>\n",
       "      <td>2020-06-28</td>\n",
       "      <td>3564.0</td>\n",
       "      <td>2020_1002</td>\n",
       "      <td>2020-06-18</td>\n",
       "      <td>1</td>\n",
       "    </tr>\n",
       "  </tbody>\n",
       "</table>\n",
       "</div>"
      ],
      "text/plain": [
       "          客户_id       下单日期     订单金额     广告投放渠道       获取时间  辅助列\n",
       "0  2020_0030076 2020-06-13   7302.0  2020_1002 2020-06-13    1\n",
       "1  2020_0031020 2020-06-10    500.0  2020_1001 2020-06-07    1\n",
       "2  2020_0033778 2020-06-29   2520.0  2020_1001 2020-06-13    1\n",
       "3  2020_0043298 2020-06-07  13080.0  2020_1001 2020-05-31    1\n",
       "4  2020_0061360 2020-06-28   3564.0  2020_1002 2020-06-18    1"
      ]
     },
     "execution_count": 51,
     "metadata": {},
     "output_type": "execute_result"
    }
   ],
   "source": [
    "#获取所有客户第一次购买的时间\n",
    "data_order_one = data_orders.groupby(['客户_id','下单日期'])[['辅助列']].size().reset_index()\n",
    "#进行聚合后，多次购买的用户将会按日期排序，利用drop_duplicates保留第一个出现的值，可以获取客户第一次下单时间\n",
    "data_order_one.drop_duplicates('客户_id',inplace = True)\n",
    "data_order_one = data_order_one[['客户_id','下单日期']]\n",
    "#订单表和第一次购买行为信息的合并\n",
    "data_order_one = pd.merge(data_order_one,data_orders)\n",
    "data_order_one.head()"
   ]
  },
  {
   "cell_type": "code",
   "execution_count": 52,
   "metadata": {},
   "outputs": [
    {
     "data": {
      "text/plain": [
       "day\n",
       "8     10\n",
       "7     10\n",
       "3     10\n",
       "2     36\n",
       "1    128\n",
       "Name: 辅助列, dtype: int64"
      ]
     },
     "execution_count": 52,
     "metadata": {},
     "output_type": "execute_result"
    },
    {
     "data": {
      "image/png": "[encoded data removed]",
      "text/plain": [
       "<Figure size 720x216 with 1 Axes>"
      ]
     },
     "metadata": {},
     "output_type": "display_data"
    }
   ],
   "source": [
    "#查看客户添加微信后多久会第一次下单\n",
    "data_order_one['day']= (data_order_one['下单日期'] - data_order_one['获取时间'])\n",
    "# 转成int类型，添加第一天就下单日期相减为0,算第一天，加个1\n",
    "data_order_one['day'] = data_order_one['day'].dt.days + 1\n",
    "data_order_one.groupby('day')['辅助列'].sum().sort_index().plot(figsize = (10,3))\n",
    "data_order_one.groupby('day')['辅助列'].sum().sort_values()[-5:]"
   ]
  },
  {
   "cell_type": "markdown",
   "metadata": {},
   "source": [
    "  *      加到客户微信后前两天成交的可能性最大"
   ]
  },
  {
   "cell_type": "markdown",
   "metadata": {},
   "source": [
    "### 计算客户开发率和复购率"
   ]
  },
  {
   "cell_type": "code",
   "execution_count": 53,
   "metadata": {},
   "outputs": [
    {
     "name": "stdout",
     "output_type": "stream",
     "text": [
      "客户开发率 0.031\n"
     ]
    }
   ],
   "source": [
    "#获取新单成交率\n",
    "print(\"客户开发率\" , round(len(data_order_one) / len(data_add_wx),3))"
   ]
  },
  {
   "cell_type": "code",
   "execution_count": 54,
   "metadata": {
    "scrolled": true
   },
   "outputs": [
    {
     "name": "stdout",
     "output_type": "stream",
     "text": [
      "客户复购率 0.122\n"
     ]
    }
   ],
   "source": [
    "#获取客户复购率\n",
    "data_RePurchase = data_orders.groupby('客户_id')['辅助列'].sum().reset_index()\n",
    "print(\"客户复购率\" , round(len(data_RePurchase.loc[data_RePurchase['辅助列'] >=2,:]) / len(data_order_one),3))\n"
   ]
  },
  {
   "cell_type": "markdown",
   "metadata": {},
   "source": [
    " * 两个月销售数据的客户开发率为3%，复购率为12%"
   ]
  },
  {
   "cell_type": "markdown",
   "metadata": {},
   "source": [
    "### 计算各销售价格区间单数和占比"
   ]
  },
  {
   "cell_type": "code",
   "execution_count": 55,
   "metadata": {},
   "outputs": [
    {
     "data": {
      "text/plain": [
       "1000-2000元      133\n",
       "2000-5000元      108\n",
       "10000-50000元     43\n",
       "5000-10000元      38\n",
       "0-1000元          32\n",
       "500000元以上         1\n",
       "Name: 订单金额, dtype: int64"
      ]
     },
     "execution_count": 55,
     "metadata": {},
     "output_type": "execute_result"
    }
   ],
   "source": [
    "price_cut = pd.cut(data_orders['订单金额'],bins = [0,1000,2000,5000,10000,50000,200000],\n",
    "                   labels = ['0-1000元','1000-2000元','2000-5000元','5000-10000元','10000-50000元','500000元以上'])\n",
    "price_num = price_cut.value_counts()\n",
    "price_num\n"
   ]
  },
  {
   "cell_type": "code",
   "execution_count": 56,
   "metadata": {},
   "outputs": [
    {
     "data": {
      "text/plain": [
       "price_cut\n",
       "0-1000元          19180.0\n",
       "1000-2000元      183429.4\n",
       "2000-5000元      367656.0\n",
       "5000-10000元     261090.0\n",
       "10000-50000元    851584.0\n",
       "500000元以上        56280.0\n",
       "Name: 订单金额, dtype: float64"
      ]
     },
     "execution_count": 56,
     "metadata": {},
     "output_type": "execute_result"
    }
   ],
   "source": [
    "data_orders['price_cut'] = price_cut\n",
    "cut_purchase = data_orders.groupby('price_cut')['订单金额'].sum()\n",
    "cut_purchase"
   ]
  },
  {
   "cell_type": "code",
   "execution_count": 57,
   "metadata": {},
   "outputs": [
    {
     "data": {
      "text/html": [
       "\n",
       "<script>\n",
       "    require.config({\n",
       "        paths: {\n",
       "            'echarts':'https://assets.pyecharts.org/assets/echarts.min'\n",
       "        }\n",
       "    });\n",
       "</script>\n",
       "\n",
       "        <div id=\"d1454751abc94a4d85f925270a7be599\" style=\"width:900px; height:500px;\"></div>\n",
       "\n",
       "<script>\n",
       "        require(['echarts'], function(echarts) {\n",
       "                var chart_d1454751abc94a4d85f925270a7be599 = echarts.init(\n",
       "                    document.getElementById('d1454751abc94a4d85f925270a7be599'), 'white', {renderer: 'canvas'});\n",
       "                var option_d1454751abc94a4d85f925270a7be599 = {\n",
       "    \"animation\": true,\n",
       "    \"animationThreshold\": 2000,\n",
       "    \"animationDuration\": 1000,\n",
       "    \"animationEasing\": \"cubicOut\",\n",
       "    \"animationDelay\": 0,\n",
       "    \"animationDurationUpdate\": 300,\n",
       "    \"animationEasingUpdate\": \"cubicOut\",\n",
       "    \"animationDelayUpdate\": 0,\n",
       "    \"color\": [\n",
       "        \"#EF9050\",\n",
       "        \"#3B7BA9\",\n",
       "        \"#6FB27C\",\n",
       "        \"#FFAF34\",\n",
       "        \"#D8BFD8\",\n",
       "        \"#00BFFF\",\n",
       "        \"#7FFFAA\"\n",
       "    ],\n",
       "    \"series\": [\n",
       "        {\n",
       "            \"type\": \"pie\",\n",
       "            \"clockwise\": true,\n",
       "            \"data\": [\n",
       "                {\n",
       "                    \"name\": \"0-1000\\u5143\",\n",
       "                    \"value\": 19180.0\n",
       "                },\n",
       "                {\n",
       "                    \"name\": \"1000-2000\\u5143\",\n",
       "                    \"value\": 183429.4\n",
       "                },\n",
       "                {\n",
       "                    \"name\": \"2000-5000\\u5143\",\n",
       "                    \"value\": 367656.0\n",
       "                },\n",
       "                {\n",
       "                    \"name\": \"5000-10000\\u5143\",\n",
       "                    \"value\": 261090.0\n",
       "                },\n",
       "                {\n",
       "                    \"name\": \"10000-50000\\u5143\",\n",
       "                    \"value\": 851584.0\n",
       "                },\n",
       "                {\n",
       "                    \"name\": \"500000\\u5143\\u4ee5\\u4e0a\",\n",
       "                    \"value\": 56280.0\n",
       "                }\n",
       "            ],\n",
       "            \"radius\": [\n",
       "                \"35%\",\n",
       "                \"60%\"\n",
       "            ],\n",
       "            \"center\": [\n",
       "                \"50%\",\n",
       "                \"50%\"\n",
       "            ],\n",
       "            \"label\": {\n",
       "                \"show\": true,\n",
       "                \"position\": \"top\",\n",
       "                \"margin\": 8,\n",
       "                \"formatter\": \"{b}:{d}%\"\n",
       "            },\n",
       "            \"rippleEffect\": {\n",
       "                \"show\": true,\n",
       "                \"brushType\": \"stroke\",\n",
       "                \"scale\": 2.5,\n",
       "                \"period\": 4\n",
       "            }\n",
       "        }\n",
       "    ],\n",
       "    \"legend\": [\n",
       "        {\n",
       "            \"data\": [\n",
       "                \"0-1000\\u5143\",\n",
       "                \"1000-2000\\u5143\",\n",
       "                \"2000-5000\\u5143\",\n",
       "                \"5000-10000\\u5143\",\n",
       "                \"10000-50000\\u5143\",\n",
       "                \"500000\\u5143\\u4ee5\\u4e0a\"\n",
       "            ],\n",
       "            \"selected\": {},\n",
       "            \"show\": true,\n",
       "            \"left\": \"2%\",\n",
       "            \"top\": \"15%\",\n",
       "            \"orient\": \"vertical\",\n",
       "            \"padding\": 5,\n",
       "            \"itemGap\": 10,\n",
       "            \"itemWidth\": 25,\n",
       "            \"itemHeight\": 14\n",
       "        }\n",
       "    ],\n",
       "    \"tooltip\": {\n",
       "        \"show\": true,\n",
       "        \"trigger\": \"item\",\n",
       "        \"triggerOn\": \"mousemove|click\",\n",
       "        \"axisPointer\": {\n",
       "            \"type\": \"line\"\n",
       "        },\n",
       "        \"textStyle\": {\n",
       "            \"fontSize\": 14\n",
       "        },\n",
       "        \"borderWidth\": 0\n",
       "    },\n",
       "    \"title\": [\n",
       "        {\n",
       "            \"text\": \"\\u4e0d\\u540c\\u4ef7\\u683c\\u533a\\u95f4\\u7684\\u9500\\u552e\\u989d\\u6574\\u4f53\\u8868\\u73b0\",\n",
       "            \"padding\": 5,\n",
       "            \"itemGap\": 10\n",
       "        }\n",
       "    ]\n",
       "};\n",
       "                chart_d1454751abc94a4d85f925270a7be599.setOption(option_d1454751abc94a4d85f925270a7be599);\n",
       "        });\n",
       "    </script>\n"
      ],
      "text/plain": [
       "<pyecharts.render.display.HTML at 0x1b05bdc2088>"
      ]
     },
     "execution_count": 57,
     "metadata": {},
     "output_type": "execute_result"
    }
   ],
   "source": [
    "data_pair = [list(z) for z in zip(cut_purchase.index.tolist(), cut_purchase.values.tolist())]\n",
    "# 绘制饼图\n",
    "pie1 = Pie() \n",
    "pie1.add('', data_pair, radius=['35%', '60%'])\n",
    "pie1.set_global_opts(title_opts=opts.TitleOpts(title='不同价格区间的销售额整体表现'), \n",
    "                     legend_opts=opts.LegendOpts(orient='vertical', pos_top='15%', pos_left='2%'))\n",
    "pie1.set_series_opts(label_opts=opts.LabelOpts(formatter=\"{b}:{d}%\"))\n",
    "pie1.set_colors(['#EF9050', '#3B7BA9', '#6FB27C', '#FFAF34', '#D8BFD8', '#00BFFF', '#7FFFAA'])\n",
    "pie1.render_notebook() "
   ]
  },
  {
   "cell_type": "markdown",
   "metadata": {},
   "source": [
    "                  * 下单金额大于一万的单的数量以百分之9的占比占据了一半的销售额，这样的客户需要重点关注"
   ]
  },
  {
   "cell_type": "code",
   "execution_count": 58,
   "metadata": {},
   "outputs": [
    {
     "name": "stdout",
     "output_type": "stream",
     "text": [
      "<class 'pandas.core.frame.DataFrame'>\n",
      "RangeIndex: 4 entries, 0 to 3\n",
      "Data columns (total 3 columns):\n",
      " #   Column  Non-Null Count  Dtype  \n",
      "---  ------  --------------  -----  \n",
      " 0   广告投放渠道  4 non-null      object \n",
      " 1   月份      4 non-null      int64  \n",
      " 2   广告成本    4 non-null      float64\n",
      "dtypes: float64(1), int64(1), object(1)\n",
      "memory usage: 224.0+ bytes\n"
     ]
    }
   ],
   "source": [
    "data_adv_cost = pd.read_excel(\"D:\\\\office\\\\data\\\\data\\\\advertisement_cost.xlsx\")\n",
    "data_adv_cost.info()"
   ]
  },
  {
   "cell_type": "markdown",
   "metadata": {},
   "source": [
    "###  两个广告渠道各项数据对比"
   ]
  },
  {
   "cell_type": "code",
   "execution_count": 66,
   "metadata": {},
   "outputs": [
    {
     "data": {
      "text/html": [
       "<div>\n",
       "<style scoped>\n",
       "    .dataframe tbody tr th:only-of-type {\n",
       "        vertical-align: middle;\n",
       "    }\n",
       "\n",
       "    .dataframe tbody tr th {\n",
       "        vertical-align: top;\n",
       "    }\n",
       "\n",
       "    .dataframe thead th {\n",
       "        text-align: right;\n",
       "    }\n",
       "</style>\n",
       "<table border=\"1\" class=\"dataframe\">\n",
       "  <thead>\n",
       "    <tr style=\"text-align: right;\">\n",
       "      <th></th>\n",
       "      <th>广告投放渠道</th>\n",
       "      <th>月份</th>\n",
       "      <th>线索数量</th>\n",
       "      <th>广告成本</th>\n",
       "      <th>客户数量</th>\n",
       "      <th>订单金额</th>\n",
       "      <th>订单数量</th>\n",
       "      <th>线索成本</th>\n",
       "      <th>获客成本</th>\n",
       "      <th>ROI</th>\n",
       "      <th>客单价</th>\n",
       "      <th>线索转化率</th>\n",
       "    </tr>\n",
       "  </thead>\n",
       "  <tbody>\n",
       "    <tr>\n",
       "      <th>0</th>\n",
       "      <td>2020_1001</td>\n",
       "      <td>5</td>\n",
       "      <td>4736</td>\n",
       "      <td>416327.06</td>\n",
       "      <td>3386</td>\n",
       "      <td>204751.4</td>\n",
       "      <td>70</td>\n",
       "      <td>87.906896</td>\n",
       "      <td>122.955422</td>\n",
       "      <td>0.491804</td>\n",
       "      <td>2925.020000</td>\n",
       "      <td>0.714949</td>\n",
       "    </tr>\n",
       "    <tr>\n",
       "      <th>2</th>\n",
       "      <td>2020_1002</td>\n",
       "      <td>5</td>\n",
       "      <td>155</td>\n",
       "      <td>30459.90</td>\n",
       "      <td>121</td>\n",
       "      <td>9672.0</td>\n",
       "      <td>4</td>\n",
       "      <td>196.515484</td>\n",
       "      <td>251.734711</td>\n",
       "      <td>0.317532</td>\n",
       "      <td>2418.000000</td>\n",
       "      <td>0.780645</td>\n",
       "    </tr>\n",
       "    <tr>\n",
       "      <th>1</th>\n",
       "      <td>2020_1001</td>\n",
       "      <td>6</td>\n",
       "      <td>8223</td>\n",
       "      <td>855191.97</td>\n",
       "      <td>5908</td>\n",
       "      <td>1277212.0</td>\n",
       "      <td>249</td>\n",
       "      <td>103.999996</td>\n",
       "      <td>144.751518</td>\n",
       "      <td>1.493480</td>\n",
       "      <td>5129.365462</td>\n",
       "      <td>0.718473</td>\n",
       "    </tr>\n",
       "    <tr>\n",
       "      <th>3</th>\n",
       "      <td>2020_1002</td>\n",
       "      <td>6</td>\n",
       "      <td>819</td>\n",
       "      <td>180593.66</td>\n",
       "      <td>536</td>\n",
       "      <td>247584.0</td>\n",
       "      <td>32</td>\n",
       "      <td>220.505079</td>\n",
       "      <td>336.928470</td>\n",
       "      <td>1.370945</td>\n",
       "      <td>7737.000000</td>\n",
       "      <td>0.654457</td>\n",
       "    </tr>\n",
       "  </tbody>\n",
       "</table>\n",
       "</div>"
      ],
      "text/plain": [
       "      广告投放渠道  月份  线索数量       广告成本  客户数量       订单金额  订单数量        线索成本  \\\n",
       "0  2020_1001   5  4736  416327.06  3386   204751.4    70   87.906896   \n",
       "2  2020_1002   5   155   30459.90   121     9672.0     4  196.515484   \n",
       "1  2020_1001   6  8223  855191.97  5908  1277212.0   249  103.999996   \n",
       "3  2020_1002   6   819  180593.66   536   247584.0    32  220.505079   \n",
       "\n",
       "         获客成本       ROI          客单价     线索转化率  \n",
       "0  122.955422  0.491804  2925.020000  0.714949  \n",
       "2  251.734711  0.317532  2418.000000  0.780645  \n",
       "1  144.751518  1.493480  5129.365462  0.718473  \n",
       "3  336.928470  1.370945  7737.000000  0.654457  "
      ]
     },
     "execution_count": 66,
     "metadata": {},
     "output_type": "execute_result"
    }
   ],
   "source": [
    "\n",
    "#添加辅助列进行求和\n",
    "data_user_source.loc[:,'线索数量'] = 1\n",
    "data_add_wx.loc[:,'客户数量'] = 1\n",
    "data_user_source['月份'] = data_user_source['获取时间'].dt.month\n",
    "data_sourse_month = data_user_source.groupby(['广告投放渠道','月份']).agg({'线索数量':'sum'}).reset_index()\n",
    "data_user_month = data_add_wx.groupby(['广告投放渠道','月份']).agg({'客户数量':'sum'}).reset_index()\n",
    "\n",
    "#订单表进行月份聚合\n",
    "#订单总数量\n",
    "\n",
    "data_adv_order_count = data_orders.groupby(['广告投放渠道','月份'])['辅助列'].sum().rename('订单数量').reset_index()\n",
    "#订单销售总额\n",
    "data_orders['月份'] = data_orders['下单日期'].dt.month\n",
    "data_adv_OrderSum = data_orders.groupby(['广告投放渠道','月份']).agg({'订单金额':'sum'}).reset_index()\n",
    "#两个广告渠道各项对比\n",
    "data_cost = pd.merge(data_sourse_month,data_adv_cost,on = ['月份','广告投放渠道'])\n",
    "data_cost = pd.merge(data_cost ,data_user_month,on = ['月份','广告投放渠道'])\n",
    "data_cost = pd.merge(data_cost ,data_adv_OrderSum,on = ['月份','广告投放渠道'])\n",
    "data_cost = pd.merge(data_cost ,data_adv_order_count,on = ['月份','广告投放渠道'])\n",
    "data_cost['线索成本'] = data_cost['广告成本']/data_cost['线索数量']\n",
    "data_cost['获客成本'] = data_cost['广告成本']/data_cost['客户数量']\n",
    "data_cost['获客成本'] = data_cost['广告成本']/data_cost['客户数量']\n",
    "data_cost['ROI'] = data_cost['订单金额']/data_cost['广告成本']\n",
    "\n",
    "data_cost['客单价'] = data_cost['订单金额']/data_cost['订单数量']\n",
    "data_cost['线索转化率'] = data_cost['客户数量']/data_cost['线索数量']\n",
    "\n",
    "data_cost.sort_values(by = '月份')"
   ]
  },
  {
   "cell_type": "code",
   "execution_count": 67,
   "metadata": {},
   "outputs": [
    {
     "data": {
      "text/plain": [
       "0    0.020530\n",
       "1    0.037089\n",
       "dtype: float64"
      ]
     },
     "execution_count": 67,
     "metadata": {},
     "output_type": "execute_result"
    }
   ],
   "source": [
    "#提取出月份查看七八月的成交率\n",
    "data_order_one['下单日期']=data_order_one['下单日期'].apply(pd.to_datetime,format='%Y-%m-%d')\n",
    "data_order_one['月份'] = data_order_one['下单日期'].dt.month\n",
    "data_order_OneSum = data_order_one.groupby('月份').size().rename('新单数量').reset_index()\n",
    "data_NumFans = data_cost.groupby('月份')['客户数量'].sum().reset_index()\n",
    "data_order_OneSum['新单数量']/data_NumFans['客户数量']"
   ]
  },
  {
   "cell_type": "code",
   "execution_count": 68,
   "metadata": {},
   "outputs": [
    {
     "data": {
      "text/plain": [
       "0    0.040541\n",
       "1    0.145907\n",
       "dtype: float64"
      ]
     },
     "execution_count": 68,
     "metadata": {},
     "output_type": "execute_result"
    }
   ],
   "source": [
    "#查看七八月分大单占比\n",
    "data_BigOrder = data_orders.loc[data_orders['订单金额']>=10000,:].groupby('月份')['辅助列'].count().rename('大单数量').reset_index()\n",
    "data_AllOrder = data_cost.groupby('月份')['订单数量'].sum().reset_index()\n",
    "data_BigOrder['大单数量'] / data_AllOrder['订单数量']"
   ]
  },
  {
   "cell_type": "markdown",
   "metadata": {},
   "source": [
    "     * 可能由于是新项目的原因，八月对比七月有较大增长\n",
    "     * 2020_1001 比2020_1002的广告渠道表现得要好,2020_1001是主要的获客渠道\n",
    "     * 2020_1002获取客户的成本太高,8月份的转化率有大幅度降低不太稳定\n",
    "     * 八月环比七月的客户开发率有不错的增长,大单占比数量有较大的增长是ROI大幅度增长的主要原因\n",
    "     "
   ]
  },
  {
   "cell_type": "markdown",
   "metadata": {},
   "source": [
    "### 查看收到赠送酒的客户后续销售情况"
   ]
  },
  {
   "cell_type": "code",
   "execution_count": 69,
   "metadata": {},
   "outputs": [
    {
     "name": "stdout",
     "output_type": "stream",
     "text": [
      "赠送客户一瓶酒后续的第一次购买成交率： 0.03787878787878788\n"
     ]
    }
   ],
   "source": [
    "data_active_order.columns =['客户_id','活动金额','赠送日期']\n",
    "data_active = pd.merge(data_active_order,data_orders)\n",
    "print('赠送客户一瓶酒后续的第一次购买成交率：',len(data_active[data_active.duplicated('客户_id')]) / len(data_active_order))"
   ]
  },
  {
   "cell_type": "code",
   "execution_count": 70,
   "metadata": {},
   "outputs": [
    {
     "name": "stdout",
     "output_type": "stream",
     "text": [
      "活动赠送一瓶酒给意向客户的复购率: 0.8\n",
      "第一次购买的客户人数: 5\n",
      "复购客户人数： 4\n"
     ]
    }
   ],
   "source": [
    "active_purchase = data_active.groupby('客户_id')['辅助列'].sum().rename('下单次数').reset_index()\n",
    "print('活动赠送一瓶酒给意向客户的复购率:', len(active_purchase.loc[active_purchase['下单次数'] >= 2,:]) \n",
    "      / len(data_active[data_active.duplicated('客户_id')]))\n",
    "print('第一次购买的客户人数:',len(data_active[data_active.duplicated('客户_id')]))\n",
    "print('复购客户人数：', len(active_purchase.loc[active_purchase['下单次数'] >= 2,:]))\n"
   ]
  },
  {
   "cell_type": "markdown",
   "metadata": {},
   "source": [
    "  * 对于意向客户未够买产品，选择赠送一瓶给客户后续的成交率没有明显提升，复购率很高可能是数据量太少y存在些许偶然因素"
   ]
  },
  {
   "cell_type": "markdown",
   "metadata": {},
   "source": [
    "  # 总结\n",
    "  #### 有部分没有打通电话的客户只跟进了一到两次，根据数据来看最好是要跟进三次，客户一直未接通可以尝试发短信，减少获客成本\n",
    "  #### 销售金额大于一万的单数占了销售总额的一半，应该重点关注下单金额大于一万的客户\n",
    "  ####  2020_1002广告渠道获取客户的成本太高，是2020_1001的两倍以上\n",
    "  #### 从六月份销售数据环比五月份销售数据来看，正处于较高的增长期，各环节都有很大的提升空间\n",
    "  ####  客户开发率目前还比较低，大于一万单的销售额是ROI较大增长的主要原因"
   ]
  },
  {
   "cell_type": "code",
   "execution_count": null,
   "metadata": {},
   "outputs": [],
   "source": []
  }
 ],
 "metadata": {
  "kernelspec": {
   "display_name": "Python 3",
   "language": "python",
   "name": "python3"
  },
  "language_info": {
   "codemirror_mode": {
    "name": "ipython",
    "version": 3
   },
   "file_extension": ".py",
   "mimetype": "text/x-python",
   "name": "python",
   "nbconvert_exporter": "python",
   "pygments_lexer": "ipython3",
   "version": "3.7.6"
  }
 },
 "nbformat": 4,
 "nbformat_minor": 4
}
